{
 "cells": [
  {
   "cell_type": "code",
   "execution_count": null,
   "id": "09be54e2-0e1f-4da1-9162-736b28c01aa4",
   "metadata": {},
   "outputs": [],
   "source": [
    "import pyvisa\n",
    "resource_manager = pyvisa.ResourceManager()\n",
    "# You can change the variable name and resource name\n",
    "scope = resource_manager.open_resource(\"ASRL3::INSTR\")\n",
    "print(scope.query(\"*IDN?\"))\n",
    "scope.close()"
   ]
  }
 ],
 "metadata": {
  "kernelspec": {
   "display_name": "Python 3 (ipykernel)",
   "language": "python",
   "name": "python3"
  },
  "language_info": {
   "codemirror_mode": {
    "name": "ipython",
    "version": 3
   },
   "file_extension": ".py",
   "mimetype": "text/x-python",
   "name": "python",
   "nbconvert_exporter": "python",
   "pygments_lexer": "ipython3",
   "version": "3.9.12"
  }
 },
 "nbformat": 4,
 "nbformat_minor": 5
}
